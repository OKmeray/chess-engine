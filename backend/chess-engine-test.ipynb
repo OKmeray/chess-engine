{
 "cells": [
  {
   "cell_type": "code",
   "execution_count": 1,
   "id": "42bc8e21-5107-46e0-a325-9e20daf9a919",
   "metadata": {},
   "outputs": [],
   "source": [
    "import time\n",
    "from logic.engine.square_helping_functions import get_square_name_by_num\n",
    "from logic.fen.fen_generator import get_position_from_fen\n",
    "from logic.mcts.MCTS import MCTS"
   ]
  },
  {
   "cell_type": "code",
   "execution_count": 2,
   "id": "2c679610-00ee-4309-938f-611b62e3b1d7",
   "metadata": {},
   "outputs": [],
   "source": [
    "fen = '4r2k/1p3rbp/2p1N1p1/p3n3/P2NB1nq/1P6/4R1P1/B1Q2RK1 b - - 4 32'\n",
    "initial_position = get_position_from_fen(fen)\n",
    "mcts = MCTS(initial_position)"
   ]
  },
  {
   "cell_type": "code",
   "execution_count": 3,
   "id": "aad29731-90df-4b8d-b7a3-f1f76f7f965e",
   "metadata": {},
   "outputs": [
    {
     "name": "stdout",
     "output_type": "stream",
     "text": [
      "No children added. Possible issue with move generation or application.\n",
      "No children added. Possible issue with move generation or application.\n",
      "No children added. Possible issue with move generation or application.\n",
      "No children added. Possible issue with move generation or application.\n",
      "No children added. Possible issue with move generation or application.\n",
      "No children added. Possible issue with move generation or application.\n",
      "No children added. Possible issue with move generation or application.\n",
      "No children added. Possible issue with move generation or application.\n",
      "576.363775730133 seconds\n"
     ]
    }
   ],
   "source": [
    "start = time.time()\n",
    "mcts.run(200)\n",
    "end = time.time()\n",
    "print(end - start, \"seconds\")"
   ]
  },
  {
   "cell_type": "code",
   "execution_count": 4,
   "id": "7bd96f16-b33e-4e8a-b0f4-ab903b768a5d",
   "metadata": {},
   "outputs": [
    {
     "name": "stdout",
     "output_type": "stream",
     "text": [
      "2.0557908320288374 > -inf \t {'piece': <PieceEnum.PAWN: 1>, 'color': <PieceColor.BLACK: 0>, 'square': 9, 'move': 17}\n",
      "2.1276236307187295 > 2.0557908320288374 \t {'piece': <PieceEnum.ROOK: 4>, 'color': <PieceColor.BLACK: 0>, 'square': 4, 'move': 12}\n",
      "{'piece': <PieceEnum.ROOK: 4>, 'color': <PieceColor.BLACK: 0>, 'square': 4, 'move': 12}\n"
     ]
    }
   ],
   "source": [
    "# print(len(mcts.root.children))\n",
    "# print(mcts.root.visits, mcts.root.wins)\n",
    "# for child in mcts.root.children:\n",
    "#     print(child.move, child.wins, \"/\", child.visits, \"\\t[\", [\"\".join([str(i.wins), \"/\", str(i.visits)]) for i in child.children], \"]\")\n",
    "print(mcts.best_move().move)"
   ]
  },
  {
   "cell_type": "code",
   "execution_count": 7,
   "id": "0c83d939-a570-4364-a80a-45fa6757a7fc",
   "metadata": {},
   "outputs": [
    {
     "name": "stdout",
     "output_type": "stream",
     "text": [
      "200\n",
      "49\n"
     ]
    }
   ],
   "source": [
    "print(mcts.root.visits)\n",
    "print(len(mcts.root.children))"
   ]
  },
  {
   "cell_type": "code",
   "execution_count": 18,
   "id": "a54fd642-c98f-432f-926b-2a58e15c0f61",
   "metadata": {},
   "outputs": [
    {
     "name": "stdout",
     "output_type": "stream",
     "text": [
      "3 / 5 + sqrt(2 * 5.298317366548036 / 5 )\n",
      "2.0557908320288374\n",
      "\n",
      "2 / 4 + sqrt(2 * 5.298317366548036 / 4 )\n",
      "2.1276236307187295\n",
      "\n",
      "9 / 9 + sqrt(2 * 5.298317366548036 / 9 )\n",
      "2.0850824204791527\n",
      "\n",
      "2 / 4\n",
      "200\n"
     ]
    }
   ],
   "source": [
    "import math\n",
    "from logic.engine.enums import PieceColor, PieceEnum\n",
    "\n",
    "def best_move(self):\n",
    "        # Return the move from root with the highest win rate\n",
    "        highest_UCB1 = float('-inf')\n",
    "        highest_UCB1_node = None\n",
    "\n",
    "        for i in range(0, len(self.root.children)):\n",
    "\n",
    "            if self.root.children[i].visits != 0:\n",
    "                UCB1 = self.root.children[i].wins / self.root.children[i].visits + math.sqrt(\n",
    "                    math.log(self.root.children[i].parent.visits) / (2 * self.root.children[i].visits))\n",
    "                # print(\"UCB1\", UCB1)\n",
    "                if self.root.children[i].move == {'piece': PieceEnum.QUEEN, 'color': PieceColor.BLACK, 'square': 39, 'move': 55}:\n",
    "                    #print(UCB1, highest_UCB1)\n",
    "                    #print(\"QUEEN\", self.root.children[i].wins, \"/\", self.root.children[i].visits)\n",
    "                    print(self.root.children[i].wins, \"/\", self.root.children[i].visits, \"+\",\n",
    "                          \"sqrt(2 *\", math.log(self.root.children[i].parent.visits), \"/\", self.root.children[i].visits, \")\" )\n",
    "                    print(UCB1, end=\"\\n\\n\")\n",
    "                if UCB1 > highest_UCB1:\n",
    "                    #print(self.root.visits, UCB1, \">\", highest_UCB1, \"\\t\", self.root.children[i].move)\n",
    "                    print(self.root.children[i].wins, \"/\", self.root.children[i].visits, \"+\",\n",
    "                          \"sqrt(2 *\", math.log(self.root.children[i].parent.visits), \"/\", self.root.children[i].visits, \")\" )\n",
    "                    print(UCB1, end=\"\\n\\n\")\n",
    "                    highest_UCB1 = UCB1\n",
    "                    highest_UCB1_node = self.root.children[i]                  \n",
    "        \n",
    "        return highest_UCB1_node\n",
    "\n",
    "best_move_node = best_move(mcts)\n",
    "print(best_move_node.wins, \"/\", best_move_node.visits)\n",
    "print(best_move_node.parent.visits)"
   ]
  }
 ],
 "metadata": {
  "kernelspec": {
   "display_name": "Python 3 (ipykernel)",
   "language": "python",
   "name": "python3"
  },
  "language_info": {
   "codemirror_mode": {
    "name": "ipython",
    "version": 3
   },
   "file_extension": ".py",
   "mimetype": "text/x-python",
   "name": "python",
   "nbconvert_exporter": "python",
   "pygments_lexer": "ipython3",
   "version": "3.10.1"
  }
 },
 "nbformat": 4,
 "nbformat_minor": 5
}
